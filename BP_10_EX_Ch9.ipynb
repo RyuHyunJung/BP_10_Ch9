{
  "nbformat": 4,
  "nbformat_minor": 0,
  "metadata": {
    "colab": {
      "provenance": [],
      "authorship_tag": "ABX9TyM3sNhHqYJ9WcfkPy7Ioo+J",
      "include_colab_link": true
    },
    "kernelspec": {
      "name": "python3",
      "display_name": "Python 3"
    },
    "language_info": {
      "name": "python"
    }
  },
  "cells": [
    {
      "cell_type": "markdown",
      "metadata": {
        "id": "view-in-github",
        "colab_type": "text"
      },
      "source": [
        "<a href=\"https://colab.research.google.com/github/RyuHyunJung/BP_10_Ch9/blob/main/BP_10_EX_Ch9.ipynb\" target=\"_parent\"><img src=\"https://colab.research.google.com/assets/colab-badge.svg\" alt=\"Open In Colab\"/></a>"
      ]
    },
    {
      "cell_type": "code",
      "execution_count": 4,
      "metadata": {
        "colab": {
          "base_uri": "https://localhost:8080/"
        },
        "id": "mMHO5UXhz97i",
        "outputId": "cc8db59f-b539-482b-e50c-6425299196c6"
      },
      "outputs": [
        {
          "output_type": "stream",
          "name": "stdout",
          "text": [
            "정수를 입력하시오: 10\n",
            "정수를 입력하시오: 20\n",
            "정수를 입력하시오: 30\n",
            "정수를 입력하시오: 40\n",
            "정수를 입력하시오: 50\n",
            "평균= 30.0\n"
          ]
        }
      ],
      "source": [
        "alist = []                      #공백 리스트는 []만 지정하거나 list() 사용\n",
        "sum = 0\n",
        "\n",
        "for i in range(5):\n",
        "  i = int(input(\"정수를 입력하시오: \"))\n",
        "  alist.append(i)              # append(x)는 리스트의 맨 마지막에 x를 추가한다..\n",
        "\n",
        "for i in alist:\n",
        "  sum += i\n",
        "\n",
        "avg = sum/len(alist)          # len()은 리스트에 들어있는 원소 개수, 즉 리스트의 크기를 알려준다.\n",
        "print(\"평균=\", avg)"
      ]
    },
    {
      "cell_type": "code",
      "source": [
        "import random\n",
        "counters = [0, 0, 0, 0, 0, 0]\n",
        "\n",
        "for i in range(1000):                \n",
        "  value = random.randint(0, 5)       # 0부터 5 사이의 정수 난수를 발생한다.\n",
        "  counters[value] = counters[value] + 1\n",
        "\n",
        "for i in range(6):                   # 6번 빈복한다.\n",
        "  print(\"주사위가 \", i+1, \"인 경우는 \", counters[i], \"번\")"
      ],
      "metadata": {
        "colab": {
          "base_uri": "https://localhost:8080/"
        },
        "id": "bId7LNrE1vpO",
        "outputId": "793b1d4b-95fd-4491-970c-5918902b9f62"
      },
      "execution_count": 5,
      "outputs": [
        {
          "output_type": "stream",
          "name": "stdout",
          "text": [
            "주사위가  1 인 경우는  165 번\n",
            "주사위가  2 인 경우는  166 번\n",
            "주사위가  3 인 경우는  166 번\n",
            "주사위가  4 인 경우는  154 번\n",
            "주사위가  5 인 경우는  155 번\n",
            "주사위가  6 인 경우는  194 번\n"
          ]
        }
      ]
    },
    {
      "cell_type": "code",
      "source": [
        "contacts = { }                          #공백 딕셔버리는 { }만 지정하거나 dict()을 사용한다.\n",
        "\n",
        "while True:\n",
        "  name = input(\"(입력모드)이름을 입력하시오: \")\n",
        "  if not name:\n",
        "    break;                                #반복문을 끝냄. while의 제어흐름을 벗어남\n",
        "  tel = input(\"전화번호를 입력하시오: \")\n",
        "  contacts[name] = tel\n",
        "\n",
        "while True:\n",
        "  name = input(\"(검색모드)이름을 입력하시오: \")\n",
        "  if not name:\n",
        "    break;\n",
        "  if name in contacts :\n",
        "    print(name, \"의 전화번호는\", contacts[name], \"입니다.\")\n"
      ],
      "metadata": {
        "colab": {
          "base_uri": "https://localhost:8080/"
        },
        "id": "NlfdrJXV2sGd",
        "outputId": "aa9ad585-c5e7-4e68-eaef-df2d20e64fc6"
      },
      "execution_count": 12,
      "outputs": [
        {
          "name": "stdout",
          "output_type": "stream",
          "text": [
            "(입력모드)이름을 입력하시오: 홍길동\n",
            "전화번호를 입력하시오: 111-2222\n",
            "(입력모드)이름을 입력하시오: 김철수\n",
            "전화번호를 입력하시오: 222-3333\n",
            "(입력모드)이름을 입력하시오: \n",
            "(검색모드)이름을 입력하시오: 홍길동\n",
            "홍길동 의 전화번호는 111-2222 입니다.\n",
            "(검색모드)이름을 입력하시오: \n"
          ]
        }
      ]
    },
    {
      "cell_type": "code",
      "source": [
        "import turtle\n",
        "import random\n",
        "\n",
        "t = turtle.Turtle()\n",
        "s = turtle.Screen()\n",
        "\n",
        "def draw_shape(t, c, length, sides, x, y):\n",
        "  t.up()                              #거북이의 펜을 올린다. 그림이 그려지지 않는다.\n",
        "  t.goto(x, y)                        #거북이를 (x, y) 위치로 이동시킨다.\n",
        "  t.down()                            #거북이의 펜을 내린다. 그림이 그려진다.\n",
        "  t.fillcolor(c)                      #다각형을 채우는 색상을 변경한다.\n",
        "  angle = 360.0 / sides\n",
        "  t.begin_fill()                      #채워진 다각형을 시작한다.\n",
        "  for dist in range(sides):\n",
        "    t.forward(length)\n",
        "    t.left(angle)\n",
        "  t.end_fill()                        #채워진 다각형을 닫는다.\n",
        "\n",
        "for i in range(10):\n",
        "  color = random.choice([ 'white', 'yellow', 'blue', 'skyblue', 'orange', 'green' ])\n",
        "  side_length = random.randint(10, 100)\n",
        "  sides = random.randint(3, 10)\n",
        "  x = random.randint(-200, 200)         # -200부터 200 사이의 정수 난수를 발생한다.\n",
        "  y = random.randint(-200, 200)\n",
        "  draw_shape(t, color, side_length, sides, x, y)"
      ],
      "metadata": {
        "id": "clDCHTqy5xNM"
      },
      "execution_count": null,
      "outputs": []
    },
    {
      "cell_type": "code",
      "source": [
        "import turtle\n",
        "import random\n",
        "\n",
        "t = turtle.Turtle()\n",
        "s = turtle.Screen()\n",
        "s.bgcolor(\"black\")\n",
        "\n",
        "def draw_star(aturtle, colour, side_length, x, y):\n",
        "  aturtle.color(colour)\n",
        "  aturtle.begin_fill()\n",
        "  aturtle.penup()\n",
        "  aturtle.goto(x, y)\n",
        "  aturtle.pendown()\n",
        "  for i in range(5):\n",
        "    aturtle.forward(side_length)\n",
        "    aturtle.right(144)\n",
        "    aturtle.forward(side_length)\n",
        "  aturtle.end_fill()\n",
        "\n",
        "for i in range(20):\n",
        "  color = random.choice([ 'white', 'yellow', 'blue', 'skyblue', 'orange', 'green' ])\n",
        "  side_length = random.randint(10, 100)\n",
        "  x = random.randint(-200, 200)\n",
        "  y = random.randint(-200, 200)\n",
        "  draw_star(t, color, side_length,x, y)"
      ],
      "metadata": {
        "id": "Aw4Y3Zas-f_X"
      },
      "execution_count": null,
      "outputs": []
    },
    {
      "cell_type": "code",
      "source": [
        "domains = { \"kr\": \"대한민국\", \"us\": \"미국\", \"jp\": \"일본\", \"de\": \"독일\", \"sk\": \"슬로바키아\", \"hu\": \"헝가리\", \"no\": \"노르웨이\" }\n",
        "\n",
        "for k, v in domains.items():\n",
        "  print (k, \": \", v)"
      ],
      "metadata": {
        "colab": {
          "base_uri": "https://localhost:8080/"
        },
        "id": "fA131b4tBMd8",
        "outputId": "744493d5-94f3-4376-ece3-51ffcd2ba155"
      },
      "execution_count": 15,
      "outputs": [
        {
          "output_type": "stream",
          "name": "stdout",
          "text": [
            "kr :  대한민국\n",
            "us :  미국\n",
            "jp :  일본\n",
            "de :  독일\n",
            "sk :  슬로바키아\n",
            "hu :  헝가리\n",
            "no :  노르웨이\n"
          ]
        }
      ]
    },
    {
      "cell_type": "code",
      "source": [
        "problems = {'파이썬': '최근에 가장 떠오르는 프로그래밍 언어',\n",
        "             '변수': '데이터를 저장하는 메모리 공간',\n",
        "             '함수': '작업을 수행하는 문장들의 집합에 이름을 붙인 것',\n",
        "             '리스트': '서로 관련이 없는 항목들의 모임'}\n",
        "\n",
        "for word in problems.key:                     # 객체 안에 있는 무엇인가를 사용할 때는 객체의 이름을 쓰고 점(.)을 붙인 후 함수의 이름을 적는다.\n",
        "  print(\"다음은 어떤 단어에 대한 설명일까요?\")\n",
        "  print(problems[word])\n",
        "  print(\"(1)파이썬 (2)함수 (3) 리스트 (4)변수\")\n",
        "  answer = input(\"정답(문자만 입력할 것): \")\n",
        "  if answer == word:\n",
        "    print(\"정답입니다. !\")\n",
        "  else:\n",
        "    print(\"정답이 아닙니다.\")"
      ],
      "metadata": {
        "colab": {
          "base_uri": "https://localhost:8080/"
        },
        "id": "pZ6VBD5FCmE6",
        "outputId": "24a99263-945b-4222-a0fd-247e7d602f76"
      },
      "execution_count": 5,
      "outputs": [
        {
          "output_type": "stream",
          "name": "stdout",
          "text": [
            "다음은 어떤 단어에 대한 설명일까요?\n",
            "최근에 가장 떠오르는 프로그래밍 언어\n",
            "(1)파이썬 (2)함수 (3) 리스트 (4)변수\n",
            "정답(문자만 입력할 것): 파이썬\n",
            "정답입니다. !\n",
            "다음은 어떤 단어에 대한 설명일까요?\n",
            "데이터를 저장하는 메모리 공간\n",
            "(1)파이썬 (2)함수 (3) 리스트 (4)변수\n",
            "정답(문자만 입력할 것): 변수\n",
            "정답입니다. !\n",
            "다음은 어떤 단어에 대한 설명일까요?\n",
            "작업을 수행하는 문장들의 집합에 이름을 붙인 것\n",
            "(1)파이썬 (2)함수 (3) 리스트 (4)변수\n",
            "정답(문자만 입력할 것): 함수\n",
            "정답입니다. !\n",
            "다음은 어떤 단어에 대한 설명일까요?\n",
            "서로 관련이 없는 항목들의 모임\n",
            "(1)파이썬 (2)함수 (3) 리스트 (4)변수\n",
            "정답(문자만 입력할 것): 리스트\n",
            "정답입니다. !\n"
          ]
        }
      ]
    }
  ]
}